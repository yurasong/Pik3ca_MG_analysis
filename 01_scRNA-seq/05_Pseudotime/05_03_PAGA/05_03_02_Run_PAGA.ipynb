{
 "cells": [
  {
   "cell_type": "code",
   "execution_count": 1,
   "id": "8956fb7f-1773-4e6c-96a5-94f54f24ad95",
   "metadata": {},
   "outputs": [],
   "source": [
    "import pandas as pd\n",
    "import numpy as np\n",
    "import anndata as ad\n",
    "import scanpy as sc"
   ]
  },
  {
   "cell_type": "code",
   "execution_count": 2,
   "id": "ae8bba19-7153-48fb-b2b2-8fd028d721b6",
   "metadata": {},
   "outputs": [
    {
     "data": {
      "text/html": [
       "<div>\n",
       "<style scoped>\n",
       "    .dataframe tbody tr th:only-of-type {\n",
       "        vertical-align: middle;\n",
       "    }\n",
       "\n",
       "    .dataframe tbody tr th {\n",
       "        vertical-align: top;\n",
       "    }\n",
       "\n",
       "    .dataframe thead th {\n",
       "        text-align: right;\n",
       "    }\n",
       "</style>\n",
       "<table border=\"1\" class=\"dataframe\">\n",
       "  <thead>\n",
       "    <tr style=\"text-align: right;\">\n",
       "      <th></th>\n",
       "      <th>AAAGAACTCTAAACGC-1_1</th>\n",
       "      <th>AAAGTCCAGTGCTCGC-1_1</th>\n",
       "      <th>AAAGTGAGTATCGTTG-1_1</th>\n",
       "      <th>AACAGGGGTCCTACAA-1_1</th>\n",
       "      <th>AACCACAGTGTATACC-1_1</th>\n",
       "      <th>AACCCAAAGAGGATCC-1_1</th>\n",
       "      <th>AACCCAACACGGTAGA-1_1</th>\n",
       "      <th>AACCCAAGTGCCGTTG-1_1</th>\n",
       "      <th>AACGAAAGTAGAGACC-1_1</th>\n",
       "      <th>AACGTCAAGTTTCGAC-1_1</th>\n",
       "      <th>...</th>\n",
       "      <th>TTTGGTTCAAGTATCC-1_3</th>\n",
       "      <th>TTTGGTTGTGTGTCCG-1_3</th>\n",
       "      <th>TTTGTTGAGACGAGCT-1_3</th>\n",
       "      <th>TTTGTTGAGGCTTAAA-1_3</th>\n",
       "      <th>TTTGTTGCAAGCTCTA-1_3</th>\n",
       "      <th>TTTGTTGCATCGAAGG-1_3</th>\n",
       "      <th>TTTGTTGGTTAGAGTA-1_3</th>\n",
       "      <th>TTTGTTGTCCTTCTGG-1_3</th>\n",
       "      <th>TTTGTTGTCGCAAGAG-1_3</th>\n",
       "      <th>TTTGTTGTCTATTGTC-1_3</th>\n",
       "    </tr>\n",
       "  </thead>\n",
       "  <tbody>\n",
       "    <tr>\n",
       "      <th>Xkr4</th>\n",
       "      <td>0.0</td>\n",
       "      <td>0.0</td>\n",
       "      <td>0.0</td>\n",
       "      <td>0.0</td>\n",
       "      <td>0.0</td>\n",
       "      <td>0.0</td>\n",
       "      <td>0.0</td>\n",
       "      <td>0.0</td>\n",
       "      <td>0.0</td>\n",
       "      <td>0.0</td>\n",
       "      <td>...</td>\n",
       "      <td>0.0</td>\n",
       "      <td>0.0</td>\n",
       "      <td>0.0</td>\n",
       "      <td>0.0</td>\n",
       "      <td>0.0</td>\n",
       "      <td>0.0</td>\n",
       "      <td>0.0</td>\n",
       "      <td>0.0</td>\n",
       "      <td>0.0</td>\n",
       "      <td>0.0</td>\n",
       "    </tr>\n",
       "    <tr>\n",
       "      <th>Gm19938</th>\n",
       "      <td>0.0</td>\n",
       "      <td>0.0</td>\n",
       "      <td>0.0</td>\n",
       "      <td>0.0</td>\n",
       "      <td>0.0</td>\n",
       "      <td>0.0</td>\n",
       "      <td>0.0</td>\n",
       "      <td>0.0</td>\n",
       "      <td>0.0</td>\n",
       "      <td>0.0</td>\n",
       "      <td>...</td>\n",
       "      <td>0.0</td>\n",
       "      <td>0.0</td>\n",
       "      <td>0.0</td>\n",
       "      <td>0.0</td>\n",
       "      <td>0.0</td>\n",
       "      <td>0.0</td>\n",
       "      <td>0.0</td>\n",
       "      <td>0.0</td>\n",
       "      <td>0.0</td>\n",
       "      <td>0.0</td>\n",
       "    </tr>\n",
       "    <tr>\n",
       "      <th>Rp1</th>\n",
       "      <td>0.0</td>\n",
       "      <td>0.0</td>\n",
       "      <td>0.0</td>\n",
       "      <td>0.0</td>\n",
       "      <td>0.0</td>\n",
       "      <td>0.0</td>\n",
       "      <td>0.0</td>\n",
       "      <td>0.0</td>\n",
       "      <td>0.0</td>\n",
       "      <td>0.0</td>\n",
       "      <td>...</td>\n",
       "      <td>0.0</td>\n",
       "      <td>0.0</td>\n",
       "      <td>0.0</td>\n",
       "      <td>0.0</td>\n",
       "      <td>0.0</td>\n",
       "      <td>0.0</td>\n",
       "      <td>0.0</td>\n",
       "      <td>0.0</td>\n",
       "      <td>0.0</td>\n",
       "      <td>0.0</td>\n",
       "    </tr>\n",
       "  </tbody>\n",
       "</table>\n",
       "<p>3 rows × 9176 columns</p>\n",
       "</div>"
      ],
      "text/plain": [
       "         AAAGAACTCTAAACGC-1_1  AAAGTCCAGTGCTCGC-1_1  AAAGTGAGTATCGTTG-1_1  \\\n",
       "Xkr4                      0.0                   0.0                   0.0   \n",
       "Gm19938                   0.0                   0.0                   0.0   \n",
       "Rp1                       0.0                   0.0                   0.0   \n",
       "\n",
       "         AACAGGGGTCCTACAA-1_1  AACCACAGTGTATACC-1_1  AACCCAAAGAGGATCC-1_1  \\\n",
       "Xkr4                      0.0                   0.0                   0.0   \n",
       "Gm19938                   0.0                   0.0                   0.0   \n",
       "Rp1                       0.0                   0.0                   0.0   \n",
       "\n",
       "         AACCCAACACGGTAGA-1_1  AACCCAAGTGCCGTTG-1_1  AACGAAAGTAGAGACC-1_1  \\\n",
       "Xkr4                      0.0                   0.0                   0.0   \n",
       "Gm19938                   0.0                   0.0                   0.0   \n",
       "Rp1                       0.0                   0.0                   0.0   \n",
       "\n",
       "         AACGTCAAGTTTCGAC-1_1  ...  TTTGGTTCAAGTATCC-1_3  \\\n",
       "Xkr4                      0.0  ...                   0.0   \n",
       "Gm19938                   0.0  ...                   0.0   \n",
       "Rp1                       0.0  ...                   0.0   \n",
       "\n",
       "         TTTGGTTGTGTGTCCG-1_3  TTTGTTGAGACGAGCT-1_3  TTTGTTGAGGCTTAAA-1_3  \\\n",
       "Xkr4                      0.0                   0.0                   0.0   \n",
       "Gm19938                   0.0                   0.0                   0.0   \n",
       "Rp1                       0.0                   0.0                   0.0   \n",
       "\n",
       "         TTTGTTGCAAGCTCTA-1_3  TTTGTTGCATCGAAGG-1_3  TTTGTTGGTTAGAGTA-1_3  \\\n",
       "Xkr4                      0.0                   0.0                   0.0   \n",
       "Gm19938                   0.0                   0.0                   0.0   \n",
       "Rp1                       0.0                   0.0                   0.0   \n",
       "\n",
       "         TTTGTTGTCCTTCTGG-1_3  TTTGTTGTCGCAAGAG-1_3  TTTGTTGTCTATTGTC-1_3  \n",
       "Xkr4                      0.0                   0.0                   0.0  \n",
       "Gm19938                   0.0                   0.0                   0.0  \n",
       "Rp1                       0.0                   0.0                   0.0  \n",
       "\n",
       "[3 rows x 9176 columns]"
      ]
     },
     "execution_count": 2,
     "metadata": {},
     "output_type": "execute_result"
    }
   ],
   "source": [
    "expr_matrix = pd.read_csv(\"ExprMat_row_gene.tsv\", index_col=0, sep=\"\\t\") \n",
    "expr_matrix.head(3)"
   ]
  },
  {
   "cell_type": "code",
   "execution_count": 3,
   "id": "b751e68d-d91d-411a-b99d-262e8f7aa7dc",
   "metadata": {},
   "outputs": [
    {
     "data": {
      "text/html": [
       "<div>\n",
       "<style scoped>\n",
       "    .dataframe tbody tr th:only-of-type {\n",
       "        vertical-align: middle;\n",
       "    }\n",
       "\n",
       "    .dataframe tbody tr th {\n",
       "        vertical-align: top;\n",
       "    }\n",
       "\n",
       "    .dataframe thead th {\n",
       "        text-align: right;\n",
       "    }\n",
       "</style>\n",
       "<table border=\"1\" class=\"dataframe\">\n",
       "  <thead>\n",
       "    <tr style=\"text-align: right;\">\n",
       "      <th></th>\n",
       "      <th>Xkr4</th>\n",
       "      <th>Gm19938</th>\n",
       "      <th>Rp1</th>\n",
       "      <th>Sox17</th>\n",
       "      <th>Gm37323</th>\n",
       "      <th>Mrpl15</th>\n",
       "      <th>Lypla1</th>\n",
       "      <th>Tcea1</th>\n",
       "      <th>Rgs20</th>\n",
       "      <th>Gm16041</th>\n",
       "      <th>...</th>\n",
       "      <th>Spin2d</th>\n",
       "      <th>Gm18336</th>\n",
       "      <th>Zfp92</th>\n",
       "      <th>Fam90a1b.1</th>\n",
       "      <th>Gm14809</th>\n",
       "      <th>8030474K03Rik</th>\n",
       "      <th>Magee2</th>\n",
       "      <th>Tceal7</th>\n",
       "      <th>Serpina7</th>\n",
       "      <th>AC087559.2</th>\n",
       "    </tr>\n",
       "  </thead>\n",
       "  <tbody>\n",
       "    <tr>\n",
       "      <th>AAAGAACTCTAAACGC-1_1</th>\n",
       "      <td>0.0</td>\n",
       "      <td>0.0</td>\n",
       "      <td>0.0</td>\n",
       "      <td>0.0</td>\n",
       "      <td>0.0</td>\n",
       "      <td>0.000000</td>\n",
       "      <td>0.0</td>\n",
       "      <td>0.000000</td>\n",
       "      <td>0.0</td>\n",
       "      <td>0.0</td>\n",
       "      <td>...</td>\n",
       "      <td>0.0</td>\n",
       "      <td>0.0</td>\n",
       "      <td>0.0</td>\n",
       "      <td>0.0</td>\n",
       "      <td>0.0</td>\n",
       "      <td>0.0</td>\n",
       "      <td>0.0</td>\n",
       "      <td>0.0</td>\n",
       "      <td>0.0</td>\n",
       "      <td>0.0</td>\n",
       "    </tr>\n",
       "    <tr>\n",
       "      <th>AAAGTCCAGTGCTCGC-1_1</th>\n",
       "      <td>0.0</td>\n",
       "      <td>0.0</td>\n",
       "      <td>0.0</td>\n",
       "      <td>0.0</td>\n",
       "      <td>0.0</td>\n",
       "      <td>0.447318</td>\n",
       "      <td>0.0</td>\n",
       "      <td>0.755287</td>\n",
       "      <td>0.0</td>\n",
       "      <td>0.0</td>\n",
       "      <td>...</td>\n",
       "      <td>0.0</td>\n",
       "      <td>0.0</td>\n",
       "      <td>0.0</td>\n",
       "      <td>0.0</td>\n",
       "      <td>0.0</td>\n",
       "      <td>0.0</td>\n",
       "      <td>0.0</td>\n",
       "      <td>0.0</td>\n",
       "      <td>0.0</td>\n",
       "      <td>0.0</td>\n",
       "    </tr>\n",
       "    <tr>\n",
       "      <th>AAAGTGAGTATCGTTG-1_1</th>\n",
       "      <td>0.0</td>\n",
       "      <td>0.0</td>\n",
       "      <td>0.0</td>\n",
       "      <td>0.0</td>\n",
       "      <td>0.0</td>\n",
       "      <td>0.000000</td>\n",
       "      <td>0.0</td>\n",
       "      <td>0.000000</td>\n",
       "      <td>0.0</td>\n",
       "      <td>0.0</td>\n",
       "      <td>...</td>\n",
       "      <td>0.0</td>\n",
       "      <td>0.0</td>\n",
       "      <td>0.0</td>\n",
       "      <td>0.0</td>\n",
       "      <td>0.0</td>\n",
       "      <td>0.0</td>\n",
       "      <td>0.0</td>\n",
       "      <td>0.0</td>\n",
       "      <td>0.0</td>\n",
       "      <td>0.0</td>\n",
       "    </tr>\n",
       "  </tbody>\n",
       "</table>\n",
       "<p>3 rows × 24641 columns</p>\n",
       "</div>"
      ],
      "text/plain": [
       "                      Xkr4  Gm19938  Rp1  Sox17  Gm37323    Mrpl15  Lypla1  \\\n",
       "AAAGAACTCTAAACGC-1_1   0.0      0.0  0.0    0.0      0.0  0.000000     0.0   \n",
       "AAAGTCCAGTGCTCGC-1_1   0.0      0.0  0.0    0.0      0.0  0.447318     0.0   \n",
       "AAAGTGAGTATCGTTG-1_1   0.0      0.0  0.0    0.0      0.0  0.000000     0.0   \n",
       "\n",
       "                         Tcea1  Rgs20  Gm16041  ...  Spin2d  Gm18336  Zfp92  \\\n",
       "AAAGAACTCTAAACGC-1_1  0.000000    0.0      0.0  ...     0.0      0.0    0.0   \n",
       "AAAGTCCAGTGCTCGC-1_1  0.755287    0.0      0.0  ...     0.0      0.0    0.0   \n",
       "AAAGTGAGTATCGTTG-1_1  0.000000    0.0      0.0  ...     0.0      0.0    0.0   \n",
       "\n",
       "                      Fam90a1b.1  Gm14809  8030474K03Rik  Magee2  Tceal7  \\\n",
       "AAAGAACTCTAAACGC-1_1         0.0      0.0            0.0     0.0     0.0   \n",
       "AAAGTCCAGTGCTCGC-1_1         0.0      0.0            0.0     0.0     0.0   \n",
       "AAAGTGAGTATCGTTG-1_1         0.0      0.0            0.0     0.0     0.0   \n",
       "\n",
       "                      Serpina7  AC087559.2  \n",
       "AAAGAACTCTAAACGC-1_1       0.0         0.0  \n",
       "AAAGTCCAGTGCTCGC-1_1       0.0         0.0  \n",
       "AAAGTGAGTATCGTTG-1_1       0.0         0.0  \n",
       "\n",
       "[3 rows x 24641 columns]"
      ]
     },
     "execution_count": 3,
     "metadata": {},
     "output_type": "execute_result"
    }
   ],
   "source": [
    "expr_matrix = expr_matrix.T  # Transpose to match AnnData format (cells x genes)\n",
    "expr_matrix.head(3)"
   ]
  },
  {
   "cell_type": "code",
   "execution_count": 4,
   "id": "c8b30733-e494-4c83-84a8-a25649bf4af7",
   "metadata": {},
   "outputs": [
    {
     "data": {
      "text/html": [
       "<div>\n",
       "<style scoped>\n",
       "    .dataframe tbody tr th:only-of-type {\n",
       "        vertical-align: middle;\n",
       "    }\n",
       "\n",
       "    .dataframe tbody tr th {\n",
       "        vertical-align: top;\n",
       "    }\n",
       "\n",
       "    .dataframe thead th {\n",
       "        text-align: right;\n",
       "    }\n",
       "</style>\n",
       "<table border=\"1\" class=\"dataframe\">\n",
       "  <thead>\n",
       "    <tr style=\"text-align: right;\">\n",
       "      <th></th>\n",
       "      <th>umap_1</th>\n",
       "      <th>umap_2</th>\n",
       "    </tr>\n",
       "  </thead>\n",
       "  <tbody>\n",
       "    <tr>\n",
       "      <th>AAACGAATCAAGTGGG-1_1</th>\n",
       "      <td>7.519389</td>\n",
       "      <td>6.254953</td>\n",
       "    </tr>\n",
       "    <tr>\n",
       "      <th>AAAGAACTCTAAACGC-1_1</th>\n",
       "      <td>-7.574637</td>\n",
       "      <td>-7.710628</td>\n",
       "    </tr>\n",
       "    <tr>\n",
       "      <th>AAAGGGCTCTGTCAGA-1_1</th>\n",
       "      <td>2.844351</td>\n",
       "      <td>3.001735</td>\n",
       "    </tr>\n",
       "    <tr>\n",
       "      <th>AAAGTCCAGTGCTCGC-1_1</th>\n",
       "      <td>1.854609</td>\n",
       "      <td>-7.134219</td>\n",
       "    </tr>\n",
       "    <tr>\n",
       "      <th>AAAGTCCCACTGGACC-1_1</th>\n",
       "      <td>7.263851</td>\n",
       "      <td>6.731787</td>\n",
       "    </tr>\n",
       "  </tbody>\n",
       "</table>\n",
       "</div>"
      ],
      "text/plain": [
       "                        umap_1    umap_2\n",
       "AAACGAATCAAGTGGG-1_1  7.519389  6.254953\n",
       "AAAGAACTCTAAACGC-1_1 -7.574637 -7.710628\n",
       "AAAGGGCTCTGTCAGA-1_1  2.844351  3.001735\n",
       "AAAGTCCAGTGCTCGC-1_1  1.854609 -7.134219\n",
       "AAAGTCCCACTGGACC-1_1  7.263851  6.731787"
      ]
     },
     "execution_count": 4,
     "metadata": {},
     "output_type": "execute_result"
    }
   ],
   "source": [
    "# Load UMAP coordinates\n",
    "umap_coords = pd.read_csv(\"UMAP_coordinate.csv\", index_col=0, sep=\",\")\n",
    "umap_coords.head(5)"
   ]
  },
  {
   "cell_type": "code",
   "execution_count": 5,
   "id": "0a6ed79a-2954-47bb-a61b-e639063714e3",
   "metadata": {},
   "outputs": [
    {
     "data": {
      "text/html": [
       "<div>\n",
       "<style scoped>\n",
       "    .dataframe tbody tr th:only-of-type {\n",
       "        vertical-align: middle;\n",
       "    }\n",
       "\n",
       "    .dataframe tbody tr th {\n",
       "        vertical-align: top;\n",
       "    }\n",
       "\n",
       "    .dataframe thead th {\n",
       "        text-align: right;\n",
       "    }\n",
       "</style>\n",
       "<table border=\"1\" class=\"dataframe\">\n",
       "  <thead>\n",
       "    <tr style=\"text-align: right;\">\n",
       "      <th></th>\n",
       "      <th>orig.ident</th>\n",
       "      <th>nCount_RNA</th>\n",
       "      <th>nFeature_RNA</th>\n",
       "      <th>percent.mt</th>\n",
       "      <th>seurat_clusters</th>\n",
       "      <th>cell_type</th>\n",
       "      <th>sample</th>\n",
       "      <th>S.Score</th>\n",
       "      <th>G2M.Score</th>\n",
       "      <th>Phase</th>\n",
       "      <th>nCount_SCT</th>\n",
       "      <th>nFeature_SCT</th>\n",
       "      <th>slingPseudotime_1</th>\n",
       "    </tr>\n",
       "  </thead>\n",
       "  <tbody>\n",
       "    <tr>\n",
       "      <th>AAAGAACTCTAAACGC-1_1</th>\n",
       "      <td>mar_ctl</td>\n",
       "      <td>8470</td>\n",
       "      <td>2376</td>\n",
       "      <td>5.360094</td>\n",
       "      <td>10</td>\n",
       "      <td>Myo</td>\n",
       "      <td>CTL</td>\n",
       "      <td>-0.003904</td>\n",
       "      <td>-0.056188</td>\n",
       "      <td>G1</td>\n",
       "      <td>15772</td>\n",
       "      <td>2537</td>\n",
       "      <td>90.617360</td>\n",
       "    </tr>\n",
       "    <tr>\n",
       "      <th>AAAGTCCAGTGCTCGC-1_1</th>\n",
       "      <td>mar_ctl</td>\n",
       "      <td>17727</td>\n",
       "      <td>4095</td>\n",
       "      <td>3.982625</td>\n",
       "      <td>4</td>\n",
       "      <td>LC_ER+_Foxa1</td>\n",
       "      <td>CTL</td>\n",
       "      <td>-0.001610</td>\n",
       "      <td>-0.020977</td>\n",
       "      <td>G1</td>\n",
       "      <td>16980</td>\n",
       "      <td>4086</td>\n",
       "      <td>25.058364</td>\n",
       "    </tr>\n",
       "    <tr>\n",
       "      <th>AAAGTGAGTATCGTTG-1_1</th>\n",
       "      <td>mar_ctl</td>\n",
       "      <td>6577</td>\n",
       "      <td>1859</td>\n",
       "      <td>3.801125</td>\n",
       "      <td>10</td>\n",
       "      <td>Myo</td>\n",
       "      <td>CTL</td>\n",
       "      <td>0.057718</td>\n",
       "      <td>0.001108</td>\n",
       "      <td>S</td>\n",
       "      <td>15176</td>\n",
       "      <td>2317</td>\n",
       "      <td>95.299541</td>\n",
       "    </tr>\n",
       "    <tr>\n",
       "      <th>AACAGGGGTCCTACAA-1_1</th>\n",
       "      <td>mar_ctl</td>\n",
       "      <td>14163</td>\n",
       "      <td>3834</td>\n",
       "      <td>4.561181</td>\n",
       "      <td>4</td>\n",
       "      <td>LC_ER+_Foxa1</td>\n",
       "      <td>CTL</td>\n",
       "      <td>-0.063219</td>\n",
       "      <td>-0.068370</td>\n",
       "      <td>G1</td>\n",
       "      <td>15752</td>\n",
       "      <td>3824</td>\n",
       "      <td>20.623190</td>\n",
       "    </tr>\n",
       "    <tr>\n",
       "      <th>AACCACAGTGTATACC-1_1</th>\n",
       "      <td>mar_ctl</td>\n",
       "      <td>7272</td>\n",
       "      <td>2133</td>\n",
       "      <td>4.840484</td>\n",
       "      <td>10</td>\n",
       "      <td>Myo</td>\n",
       "      <td>CTL</td>\n",
       "      <td>0.013808</td>\n",
       "      <td>-0.009712</td>\n",
       "      <td>S</td>\n",
       "      <td>15411</td>\n",
       "      <td>2452</td>\n",
       "      <td>85.006537</td>\n",
       "    </tr>\n",
       "  </tbody>\n",
       "</table>\n",
       "</div>"
      ],
      "text/plain": [
       "                     orig.ident  nCount_RNA  nFeature_RNA  percent.mt  \\\n",
       "AAAGAACTCTAAACGC-1_1    mar_ctl        8470          2376    5.360094   \n",
       "AAAGTCCAGTGCTCGC-1_1    mar_ctl       17727          4095    3.982625   \n",
       "AAAGTGAGTATCGTTG-1_1    mar_ctl        6577          1859    3.801125   \n",
       "AACAGGGGTCCTACAA-1_1    mar_ctl       14163          3834    4.561181   \n",
       "AACCACAGTGTATACC-1_1    mar_ctl        7272          2133    4.840484   \n",
       "\n",
       "                      seurat_clusters     cell_type sample   S.Score  \\\n",
       "AAAGAACTCTAAACGC-1_1               10           Myo    CTL -0.003904   \n",
       "AAAGTCCAGTGCTCGC-1_1                4  LC_ER+_Foxa1    CTL -0.001610   \n",
       "AAAGTGAGTATCGTTG-1_1               10           Myo    CTL  0.057718   \n",
       "AACAGGGGTCCTACAA-1_1                4  LC_ER+_Foxa1    CTL -0.063219   \n",
       "AACCACAGTGTATACC-1_1               10           Myo    CTL  0.013808   \n",
       "\n",
       "                      G2M.Score Phase  nCount_SCT  nFeature_SCT  \\\n",
       "AAAGAACTCTAAACGC-1_1  -0.056188    G1       15772          2537   \n",
       "AAAGTCCAGTGCTCGC-1_1  -0.020977    G1       16980          4086   \n",
       "AAAGTGAGTATCGTTG-1_1   0.001108     S       15176          2317   \n",
       "AACAGGGGTCCTACAA-1_1  -0.068370    G1       15752          3824   \n",
       "AACCACAGTGTATACC-1_1  -0.009712     S       15411          2452   \n",
       "\n",
       "                      slingPseudotime_1  \n",
       "AAAGAACTCTAAACGC-1_1          90.617360  \n",
       "AAAGTCCAGTGCTCGC-1_1          25.058364  \n",
       "AAAGTGAGTATCGTTG-1_1          95.299541  \n",
       "AACAGGGGTCCTACAA-1_1          20.623190  \n",
       "AACCACAGTGTATACC-1_1          85.006537  "
      ]
     },
     "execution_count": 5,
     "metadata": {},
     "output_type": "execute_result"
    }
   ],
   "source": [
    "# Load metadata\n",
    "metadata = pd.read_csv(\"metadata_including_slingshot_Pseudotime.csv\", index_col=0, sep=\",\")\n",
    "metadata.head(5)"
   ]
  },
  {
   "cell_type": "code",
   "execution_count": 6,
   "id": "9be330e2-0021-493e-97c5-9e0eb90a299e",
   "metadata": {},
   "outputs": [],
   "source": [
    "# Ensure indices match across files\n",
    "umap_coords = umap_coords.loc[expr_matrix.index]\n",
    "metadata = metadata.loc[expr_matrix.index]"
   ]
  },
  {
   "cell_type": "code",
   "execution_count": 7,
   "id": "c6017979-9515-49c4-9347-3ba2cb7c3c75",
   "metadata": {},
   "outputs": [],
   "source": [
    "# Create AnnData object\n",
    "adata = ad.AnnData(expr_matrix)"
   ]
  },
  {
   "cell_type": "code",
   "execution_count": 9,
   "id": "7f04ed03-067f-458a-a239-fbd12544665b",
   "metadata": {},
   "outputs": [],
   "source": [
    "# Add metadata to observations (cells)\n",
    "adata.obs[\"cell_type\"] = metadata[\"cell_type\"]\n",
    "adata.obs[\"ProjectID\"] = metadata[\"orig.ident\"]"
   ]
  },
  {
   "cell_type": "code",
   "execution_count": 10,
   "id": "15a86f59-bdb0-4790-b134-b22f6a3415b0",
   "metadata": {},
   "outputs": [],
   "source": [
    "# Add UMAP coordinates to obsm (observation-level multidimensional data)\n",
    "adata.obsm[\"X_umap\"] = umap_coords[[\"umap_1\", \"umap_2\"]].values"
   ]
  },
  {
   "cell_type": "code",
   "execution_count": 11,
   "id": "7e484453-a62c-43fe-811b-0f32fc1d8f00",
   "metadata": {},
   "outputs": [
    {
     "name": "stderr",
     "output_type": "stream",
     "text": [
      "/home/audrey/anaconda3/envs/scvelo/lib/python3.9/site-packages/anndata/_core/anndata.py:1228: FutureWarning: The `inplace` parameter in pandas.Categorical.reorder_categories is deprecated and will be removed in a future version. Reordering categories will always return a new Categorical object.\n",
      "  c.reorder_categories(natsorted(c.categories), inplace=True)\n",
      "... storing 'cell_type' as categorical\n",
      "/home/audrey/anaconda3/envs/scvelo/lib/python3.9/site-packages/anndata/_core/anndata.py:1228: FutureWarning: The `inplace` parameter in pandas.Categorical.reorder_categories is deprecated and will be removed in a future version. Reordering categories will always return a new Categorical object.\n",
      "  c.reorder_categories(natsorted(c.categories), inplace=True)\n",
      "... storing 'ProjectID' as categorical\n"
     ]
    }
   ],
   "source": [
    "# Save as .h5ad file\n",
    "adata.write(\"Pseudotime_input.h5ad\")"
   ]
  },
  {
   "cell_type": "code",
   "execution_count": 12,
   "id": "bdb6ffcb-bf7b-471b-9dc5-744e477b2cf0",
   "metadata": {
    "tags": []
   },
   "outputs": [
    {
     "data": {
      "text/html": [
       "<div>\n",
       "<style scoped>\n",
       "    .dataframe tbody tr th:only-of-type {\n",
       "        vertical-align: middle;\n",
       "    }\n",
       "\n",
       "    .dataframe tbody tr th {\n",
       "        vertical-align: top;\n",
       "    }\n",
       "\n",
       "    .dataframe thead th {\n",
       "        text-align: right;\n",
       "    }\n",
       "</style>\n",
       "<table border=\"1\" class=\"dataframe\">\n",
       "  <thead>\n",
       "    <tr style=\"text-align: right;\">\n",
       "      <th></th>\n",
       "      <th>cell_type</th>\n",
       "      <th>ProjectID</th>\n",
       "    </tr>\n",
       "  </thead>\n",
       "  <tbody>\n",
       "    <tr>\n",
       "      <th>AAAGAACTCTAAACGC-1_1</th>\n",
       "      <td>Myo</td>\n",
       "      <td>mar_ctl</td>\n",
       "    </tr>\n",
       "    <tr>\n",
       "      <th>AAAGTCCAGTGCTCGC-1_1</th>\n",
       "      <td>LC_ER+_Foxa1</td>\n",
       "      <td>mar_ctl</td>\n",
       "    </tr>\n",
       "    <tr>\n",
       "      <th>AAAGTGAGTATCGTTG-1_1</th>\n",
       "      <td>Myo</td>\n",
       "      <td>mar_ctl</td>\n",
       "    </tr>\n",
       "    <tr>\n",
       "      <th>AACAGGGGTCCTACAA-1_1</th>\n",
       "      <td>LC_ER+_Foxa1</td>\n",
       "      <td>mar_ctl</td>\n",
       "    </tr>\n",
       "    <tr>\n",
       "      <th>AACCACAGTGTATACC-1_1</th>\n",
       "      <td>Myo</td>\n",
       "      <td>mar_ctl</td>\n",
       "    </tr>\n",
       "    <tr>\n",
       "      <th>...</th>\n",
       "      <td>...</td>\n",
       "      <td>...</td>\n",
       "    </tr>\n",
       "    <tr>\n",
       "      <th>TTTGTTGCATCGAAGG-1_3</th>\n",
       "      <td>LC_ER+_Sca1</td>\n",
       "      <td>er_pic_gem1</td>\n",
       "    </tr>\n",
       "    <tr>\n",
       "      <th>TTTGTTGGTTAGAGTA-1_3</th>\n",
       "      <td>Late_HY</td>\n",
       "      <td>er_pic_gem1</td>\n",
       "    </tr>\n",
       "    <tr>\n",
       "      <th>TTTGTTGTCCTTCTGG-1_3</th>\n",
       "      <td>Late_HY</td>\n",
       "      <td>er_pic_gem1</td>\n",
       "    </tr>\n",
       "    <tr>\n",
       "      <th>TTTGTTGTCGCAAGAG-1_3</th>\n",
       "      <td>LC_ER+_Foxa1</td>\n",
       "      <td>er_pic_gem1</td>\n",
       "    </tr>\n",
       "    <tr>\n",
       "      <th>TTTGTTGTCTATTGTC-1_3</th>\n",
       "      <td>Early_HY</td>\n",
       "      <td>er_pic_gem1</td>\n",
       "    </tr>\n",
       "  </tbody>\n",
       "</table>\n",
       "<p>9176 rows × 2 columns</p>\n",
       "</div>"
      ],
      "text/plain": [
       "                         cell_type    ProjectID\n",
       "AAAGAACTCTAAACGC-1_1           Myo      mar_ctl\n",
       "AAAGTCCAGTGCTCGC-1_1  LC_ER+_Foxa1      mar_ctl\n",
       "AAAGTGAGTATCGTTG-1_1           Myo      mar_ctl\n",
       "AACAGGGGTCCTACAA-1_1  LC_ER+_Foxa1      mar_ctl\n",
       "AACCACAGTGTATACC-1_1           Myo      mar_ctl\n",
       "...                            ...          ...\n",
       "TTTGTTGCATCGAAGG-1_3   LC_ER+_Sca1  er_pic_gem1\n",
       "TTTGTTGGTTAGAGTA-1_3       Late_HY  er_pic_gem1\n",
       "TTTGTTGTCCTTCTGG-1_3       Late_HY  er_pic_gem1\n",
       "TTTGTTGTCGCAAGAG-1_3  LC_ER+_Foxa1  er_pic_gem1\n",
       "TTTGTTGTCTATTGTC-1_3      Early_HY  er_pic_gem1\n",
       "\n",
       "[9176 rows x 2 columns]"
      ]
     },
     "execution_count": 12,
     "metadata": {},
     "output_type": "execute_result"
    }
   ],
   "source": [
    "adata.obs"
   ]
  },
  {
   "cell_type": "code",
   "execution_count": 13,
   "id": "09237052-1259-4e74-8ced-27b8d42c8a6c",
   "metadata": {
    "tags": []
   },
   "outputs": [
    {
     "data": {
      "text/plain": [
       "array([[0., 0., 0., ..., 0., 0., 0.],\n",
       "       [0., 0., 0., ..., 0., 0., 0.],\n",
       "       [0., 0., 0., ..., 0., 0., 0.],\n",
       "       ...,\n",
       "       [0., 0., 0., ..., 0., 0., 0.],\n",
       "       [0., 0., 0., ..., 0., 0., 0.],\n",
       "       [0., 0., 0., ..., 0., 0., 0.]], dtype=float32)"
      ]
     },
     "execution_count": 13,
     "metadata": {},
     "output_type": "execute_result"
    }
   ],
   "source": [
    "adata.X"
   ]
  },
  {
   "cell_type": "code",
   "execution_count": 14,
   "id": "c52d6f14-6da8-4a9e-91c5-f7c348f26a88",
   "metadata": {
    "tags": []
   },
   "outputs": [
    {
     "data": {
      "text/plain": [
       "AxisArrays with keys: X_umap"
      ]
     },
     "execution_count": 14,
     "metadata": {},
     "output_type": "execute_result"
    }
   ],
   "source": [
    "adata.obsm"
   ]
  },
  {
   "cell_type": "code",
   "execution_count": 15,
   "id": "9223e66e-a9cb-43a3-943e-548a20ab92f8",
   "metadata": {
    "tags": []
   },
   "outputs": [],
   "source": [
    "# PCA\n",
    "sc.pp.pca(adata, n_comps=50)"
   ]
  },
  {
   "cell_type": "code",
   "execution_count": 16,
   "id": "ea80cd5e-84b3-42b5-8611-007e021d044c",
   "metadata": {
    "tags": []
   },
   "outputs": [],
   "source": [
    "# Compute neighborhood graph\n",
    "sc.pp.neighbors(adata, n_neighbors=15, n_pcs=50)"
   ]
  },
  {
   "cell_type": "code",
   "execution_count": 18,
   "id": "7606d995-38b3-4703-9981-a18b4c96e7c6",
   "metadata": {
    "tags": []
   },
   "outputs": [],
   "source": [
    "sc.tl.paga(adata, groups='cell_type')"
   ]
  },
  {
   "cell_type": "code",
   "execution_count": 19,
   "id": "370bde92-c29b-444a-bd22-9c9e2977e1ab",
   "metadata": {
    "tags": []
   },
   "outputs": [
    {
     "data": {
      "text/plain": [
       "<Axes:>"
      ]
     },
     "execution_count": 19,
     "metadata": {},
     "output_type": "execute_result"
    },
    {
     "data": {
      "image/png": "[encoded data removed]",
      "text/plain": [
       "<Figure size 665.68x480 with 1 Axes>"
      ]
     },
     "metadata": {},
     "output_type": "display_data"
    }
   ],
   "source": [
    "sc.pl.paga(adata, color=['cell_type'], threshold=0.03, show=False)"
   ]
  },
  {
   "cell_type": "code",
   "execution_count": 20,
   "id": "c22abb89-7d8b-45e8-bafd-b7f1b6384939",
   "metadata": {
    "tags": []
   },
   "outputs": [
    {
     "name": "stdout",
     "output_type": "stream",
     "text": [
      "WARNING: Package 'fa2' is not installed, falling back to layout 'fr'.To use the faster and better ForceAtlas2 layout, install package 'fa2' (`pip install fa2`).\n"
     ]
    }
   ],
   "source": [
    "sc.tl.draw_graph(adata, init_pos=\"paga\")"
   ]
  },
  {
   "cell_type": "code",
   "execution_count": 21,
   "id": "0ad14d4e-b599-4c97-b7db-0944d6383aa8",
   "metadata": {
    "tags": []
   },
   "outputs": [],
   "source": [
    "import matplotlib.pyplot as pl\n",
    "import numpy as np"
   ]
  },
  {
   "cell_type": "code",
   "execution_count": 22,
   "id": "10e4a552-13d3-48ec-9e59-1804eb061bb5",
   "metadata": {
    "tags": []
   },
   "outputs": [
    {
     "data": {
      "image/png": "[encoded data removed]",
      "text/plain": [
       "<Figure size 600x200 with 1 Axes>"
      ]
     },
     "metadata": {},
     "output_type": "display_data"
    }
   ],
   "source": [
    "pl.figure(figsize=(6, 2))\n",
    "\n",
    "for i in range(5):\n",
    "    pl.scatter(i, 1, s=200)\n",
    "\n",
    "pl.savefig('PAGA.pdf', format='pdf')\n",
    "    \n",
    "pl.show()"
   ]
  },
  {
   "cell_type": "code",
   "execution_count": 23,
   "id": "8374945b-f0d8-4e32-83ba-0cc0437be821",
   "metadata": {
    "tags": []
   },
   "outputs": [
    {
     "data": {
      "image/png": "[encoded data removed]",
      "text/plain": [
       "<Figure size 600x200 with 1 Axes>"
      ]
     },
     "metadata": {},
     "output_type": "display_data"
    }
   ],
   "source": [
    "# Create a new plot and add scatter points with your annotations\n",
    "fig, ax = pl.subplots(figsize=(6, 2))\n",
    "\n",
    "# Plot using the annotations in adata.obs['cell_type'] as labels for the legend\n",
    "for i, label in enumerate(adata.obs['cell_type'].unique()):\n",
    "    ax.scatter(i, 1, s=200, label=label)\n",
    "\n",
    "# Add the legend\n",
    "ax.legend(title=\"Cell Type\")\n",
    "\n",
    "# Show the plot\n",
    "pl.show()"
   ]
  },
  {
   "cell_type": "code",
   "execution_count": 24,
   "id": "841283c5-0872-4634-be2f-3658334925db",
   "metadata": {
    "tags": []
   },
   "outputs": [
    {
     "data": {
      "image/png": "[encoded data removed]",
      "text/plain": [
       "<Figure size 665.68x480 with 1 Axes>"
      ]
     },
     "metadata": {},
     "output_type": "display_data"
    }
   ],
   "source": [
    "sc.pl.paga(adata, color=['cell_type'], threshold=0.03, show=False)\n",
    "\n",
    "pl.savefig('PAGA_graph.pdf', format='pdf')"
   ]
  },
  {
   "cell_type": "code",
   "execution_count": null,
   "id": "6c31725a-a66f-48ee-8c5b-ee536978e3b1",
   "metadata": {},
   "outputs": [],
   "source": []
  }
 ],
 "metadata": {
  "kernelspec": {
   "display_name": "Python 3 (ipykernel)",
   "language": "python",
   "name": "python3"
  },
  "language_info": {
   "codemirror_mode": {
    "name": "ipython",
    "version": 3
   },
   "file_extension": ".py",
   "mimetype": "text/x-python",
   "name": "python",
   "nbconvert_exporter": "python",
   "pygments_lexer": "ipython3",
   "version": "3.11.5"
  }
 },
 "nbformat": 4,
 "nbformat_minor": 5
}
